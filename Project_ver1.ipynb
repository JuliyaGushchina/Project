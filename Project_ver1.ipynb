{
  "nbformat": 4,
  "nbformat_minor": 0,
  "metadata": {
    "colab": {
      "provenance": []
    },
    "kernelspec": {
      "name": "python3",
      "display_name": "Python 3"
    },
    "language_info": {
      "name": "python"
    }
  },
  "cells": [
    {
      "cell_type": "code",
      "source": [
        "TRAIN = \"https://www.dropbox.com/scl/fi/5zy935lqpaqr9lat76ung/music_genre_train.csv?rlkey=ccovu9ml8pfi9whk1ba26zdda&dl=1\""
      ],
      "metadata": {
        "id": "Zhy0Bol8bAfp"
      },
      "execution_count": null,
      "outputs": []
    },
    {
      "cell_type": "code",
      "source": [
        "pip install catboost\n"
      ],
      "metadata": {
        "colab": {
          "base_uri": "https://localhost:8080/"
        },
        "id": "BboJFOdqNKSC",
        "outputId": "cbed0e50-b71e-421c-bd30-7d7e4fbfcaa9"
      },
      "execution_count": null,
      "outputs": [
        {
          "output_type": "stream",
          "name": "stdout",
          "text": [
            "Requirement already satisfied: catboost in /usr/local/lib/python3.10/dist-packages (1.2.5)\n",
            "Requirement already satisfied: graphviz in /usr/local/lib/python3.10/dist-packages (from catboost) (0.20.3)\n",
            "Requirement already satisfied: matplotlib in /usr/local/lib/python3.10/dist-packages (from catboost) (3.7.1)\n",
            "Requirement already satisfied: numpy>=1.16.0 in /usr/local/lib/python3.10/dist-packages (from catboost) (1.25.2)\n",
            "Requirement already satisfied: pandas>=0.24 in /usr/local/lib/python3.10/dist-packages (from catboost) (2.0.3)\n",
            "Requirement already satisfied: scipy in /usr/local/lib/python3.10/dist-packages (from catboost) (1.11.4)\n",
            "Requirement already satisfied: plotly in /usr/local/lib/python3.10/dist-packages (from catboost) (5.15.0)\n",
            "Requirement already satisfied: six in /usr/local/lib/python3.10/dist-packages (from catboost) (1.16.0)\n",
            "Requirement already satisfied: python-dateutil>=2.8.2 in /usr/local/lib/python3.10/dist-packages (from pandas>=0.24->catboost) (2.8.2)\n",
            "Requirement already satisfied: pytz>=2020.1 in /usr/local/lib/python3.10/dist-packages (from pandas>=0.24->catboost) (2023.4)\n",
            "Requirement already satisfied: tzdata>=2022.1 in /usr/local/lib/python3.10/dist-packages (from pandas>=0.24->catboost) (2024.1)\n",
            "Requirement already satisfied: contourpy>=1.0.1 in /usr/local/lib/python3.10/dist-packages (from matplotlib->catboost) (1.2.1)\n",
            "Requirement already satisfied: cycler>=0.10 in /usr/local/lib/python3.10/dist-packages (from matplotlib->catboost) (0.12.1)\n",
            "Requirement already satisfied: fonttools>=4.22.0 in /usr/local/lib/python3.10/dist-packages (from matplotlib->catboost) (4.53.0)\n",
            "Requirement already satisfied: kiwisolver>=1.0.1 in /usr/local/lib/python3.10/dist-packages (from matplotlib->catboost) (1.4.5)\n",
            "Requirement already satisfied: packaging>=20.0 in /usr/local/lib/python3.10/dist-packages (from matplotlib->catboost) (24.0)\n",
            "Requirement already satisfied: pillow>=6.2.0 in /usr/local/lib/python3.10/dist-packages (from matplotlib->catboost) (9.4.0)\n",
            "Requirement already satisfied: pyparsing>=2.3.1 in /usr/local/lib/python3.10/dist-packages (from matplotlib->catboost) (3.1.2)\n",
            "Requirement already satisfied: tenacity>=6.2.0 in /usr/local/lib/python3.10/dist-packages (from plotly->catboost) (8.3.0)\n"
          ]
        }
      ]
    },
    {
      "cell_type": "code",
      "source": [
        "import pandas as pd\n",
        "import numpy as np\n",
        "from catboost import CatBoostClassifier\n",
        "from sklearn.model_selection import train_test_split, GridSearchCV\n",
        "from sklearn.preprocessing import LabelEncoder\n",
        "from sklearn.metrics import classification_report, accuracy_score, confusion_matrix\n",
        "from imblearn.over_sampling import SMOTE\n",
        "\n",
        "# Загрузка данных\n",
        "train_data = pd.read_csv(TRAIN)\n",
        "\n",
        "# Обработка пропущенных значений\n",
        "for column in train_data.columns:\n",
        "    if train_data[column].isnull().sum() > 0:\n",
        "        if train_data[column].dtype == 'object':\n",
        "            train_data[column].fillna(train_data[column].mode()[0], inplace=True)\n",
        "        else:\n",
        "            train_data[column].fillna(train_data[column].median(), inplace=True)\n",
        "\n",
        "# Замена отрицательных значений в столбце `duration_ms` на медианное значение положительных значений\n",
        "median_duration = train_data[train_data['duration_ms'] > 0]['duration_ms'].median()\n",
        "train_data.loc[train_data['duration_ms'] < 0, 'duration_ms'] = median_duration\n",
        "\n",
        "# Исключение столбцов с высокой корреляцией и ненужных столбцов\n",
        "X = train_data.drop(columns=['music_genre', 'instance_id', 'track_name', 'obtained_date', 'energy'])\n",
        "\n",
        "# Преобразование категориальных признаков с помощью pd.get_dummies\n",
        "X = pd.get_dummies(X, columns=['key', 'mode'], drop_first=True)\n",
        "y = train_data['music_genre']\n",
        "\n",
        "# Преобразование меток классов в числовой формат\n",
        "le = LabelEncoder()\n",
        "y = le.fit_transform(y)\n",
        "\n",
        "# Балансировка данных с использованием SMOTE\n",
        "smote = SMOTE(random_state=42)\n",
        "X_balanced, y_balanced = smote.fit_resample(X, y)\n",
        "\n",
        "# Разделение данных на обучающую и валидационную выборки\n",
        "X_train, X_val, y_train, y_val = train_test_split(X_balanced, y_balanced, test_size=0.2, random_state=42, stratify=y_balanced)\n",
        "\n",
        "# Определение модели CatBoostClassifier\n",
        "catboost_model = CatBoostClassifier(random_state=42, silent=True)\n",
        "\n",
        "# Определение параметров для поиска\n",
        "param_grid = {\n",
        "    'iterations': [100, 200, 300],\n",
        "    'depth': [4, 6, 8],\n",
        "    'learning_rate': [0.01, 0.1, 0.2],\n",
        "    'l2_leaf_reg': [1, 3, 5, 7]\n",
        "}\n",
        "\n",
        "# Инициализация GridSearchCV\n",
        "grid_search = GridSearchCV(estimator=catboost_model, param_grid=param_grid, cv=3, n_jobs=-1, verbose=2, scoring='accuracy')\n",
        "\n",
        "# Поиск лучших параметров\n",
        "grid_search.fit(X_train, y_train)\n",
        "\n",
        "# Использование лучших параметров для обучения модели\n",
        "best_catboost_model = grid_search.best_estimator_\n",
        "\n",
        "# Получение предсказаний и оценка модели\n",
        "y_train_pred = best_catboost_model.predict(X_train)\n",
        "y_val_pred = best_catboost_model.predict(X_val)\n",
        "\n",
        "train_accuracy = accuracy_score(y_train, y_train_pred)\n",
        "val_accuracy = accuracy_score(y_val, y_val_pred)\n",
        "classification_rep = classification_report(y_val, y_val_pred, target_names=le.classes_)\n",
        "conf_matrix = confusion_matrix(y_val, y_val_pred)\n",
        "\n",
        "print(\"Train Accuracy:\", train_accuracy)\n",
        "print(\"Validation Accuracy:\", val_accuracy)\n",
        "print(\"\\nClassification Report:\\n\", classification_rep)\n",
        "print(\"\\nConfusion Matrix:\\n\", conf_matrix)\n"
      ],
      "metadata": {
        "colab": {
          "base_uri": "https://localhost:8080/"
        },
        "id": "j2FFvRpXNM-O",
        "outputId": "9dd994e9-7a00-4f9e-96f9-958d6df2cf57"
      },
      "execution_count": null,
      "outputs": [
        {
          "output_type": "stream",
          "name": "stdout",
          "text": [
            "Fitting 3 folds for each of 108 candidates, totalling 324 fits\n",
            "Train Accuracy: 0.8122813156053184\n",
            "Validation Accuracy: 0.5437368789363191\n",
            "\n",
            "Classification Report:\n",
            "               precision    recall  f1-score   support\n",
            "\n",
            " Alternative       0.32      0.27      0.29       571\n",
            "       Anime       0.56      0.57      0.56       571\n",
            "       Blues       0.43      0.46      0.45       572\n",
            "   Classical       0.85      0.88      0.87       572\n",
            "     Country       0.52      0.59      0.55       572\n",
            "  Electronic       0.64      0.61      0.62       571\n",
            "     Hip-Hop       0.61      0.63      0.62       572\n",
            "        Jazz       0.60      0.66      0.63       572\n",
            "         Rap       0.50      0.53      0.52       571\n",
            "        Rock       0.31      0.24      0.27       572\n",
            "\n",
            "    accuracy                           0.54      5716\n",
            "   macro avg       0.53      0.54      0.54      5716\n",
            "weighted avg       0.53      0.54      0.54      5716\n",
            "\n",
            "\n",
            "Confusion Matrix:\n",
            " [[153  63  57   3  54  48  38  30  50  75]\n",
            " [ 50 324  24  34  33  30   2  32   8  34]\n",
            " [ 40  27 265   7  61  17   8  69  16  62]\n",
            " [  6  25  10 506   0   3   1  14   1   6]\n",
            " [ 32  24  58   1 336   4  10  12  29  66]\n",
            " [ 49  32  17   3  10 346  12  49  25  28]\n",
            " [ 16   7   6   0   9   9 362   9 147   7]\n",
            " [  6  23  51  37  12  33   6 377   7  20]\n",
            " [ 47  12   5   0  17  20 149   6 301  14]\n",
            " [ 76  39 126   4 114  30   5  27  13 138]]\n"
          ]
        }
      ]
    }
  ]
}